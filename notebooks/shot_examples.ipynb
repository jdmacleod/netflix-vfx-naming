{
 "cells": [
  {
   "cell_type": "code",
   "execution_count": 1,
   "id": "4495ff56-55b8-4228-b660-6fb0d06e5bc9",
   "metadata": {},
   "outputs": [
    {
     "data": {
      "text/plain": [
       "\"We'll follow the Netflix Best Practices example for VFX shot naming:\\n\\n<https://partnerhelp.netflixstudios.com/hc/en-us/articles/360057627473-VFX-Shot-and-Version-Naming-Recommendations>\""
      ]
     },
     "execution_count": 1,
     "metadata": {},
     "output_type": "execute_result"
    }
   ],
   "source": [
    "# VFX Shot Naming Example\n",
    "\n",
    "\"\"\"We'll follow the Netflix Best Practices example for VFX shot naming:\n",
    "\n",
    "<https://partnerhelp.netflixstudios.com/hc/en-us/articles/360057627473-VFX-Shot-and-Version-Naming-Recommendations>\"\"\""
   ]
  },
  {
   "cell_type": "code",
   "execution_count": 2,
   "id": "832c8e4a-f139-4026-a949-111a99b302e9",
   "metadata": {},
   "outputs": [
    {
     "name": "stdout",
     "output_type": "stream",
     "text": [
      "show: AGM\n"
     ]
    }
   ],
   "source": [
    "from netflix_vfx_naming import Show\n",
    "example_show = Show.Show(name=\"AGM\")\n",
    "print(f\"show: {example_show.name}\")"
   ]
  },
  {
   "cell_type": "code",
   "execution_count": 3,
   "id": "1608d672-fb0a-478d-bd95-f35bce2ca8b6",
   "metadata": {},
   "outputs": [
    {
     "name": "stdout",
     "output_type": "stream",
     "text": [
      "episode: 104\n"
     ]
    }
   ],
   "source": [
    "from netflix_vfx_naming import Episode\n",
    "example_episode = Episode.Episode(name=\"104\")\n",
    "print(f\"episode: {example_episode.name}\")"
   ]
  },
  {
   "cell_type": "code",
   "execution_count": 4,
   "id": "eea07c00-7e1e-4210-8992-9c5fae1925bf",
   "metadata": {},
   "outputs": [
    {
     "name": "stdout",
     "output_type": "stream",
     "text": [
      "sequence: TCC\n"
     ]
    }
   ],
   "source": [
    "from netflix_vfx_naming import Sequence\n",
    "example_sequence = Sequence.Sequence(name=\"TCC\")\n",
    "print(f\"sequence: {example_sequence.name}\")"
   ]
  },
  {
   "cell_type": "code",
   "execution_count": 5,
   "id": "cde7e346-eff8-4cf0-8a67-1c4fb5fe21d1",
   "metadata": {},
   "outputs": [
    {
     "name": "stdout",
     "output_type": "stream",
     "text": [
      "scene: 067\n"
     ]
    }
   ],
   "source": [
    "from netflix_vfx_naming import Scene\n",
    "example_scene = Scene.Scene(name=\"067\")\n",
    "print(f\"scene: {example_scene.name}\")"
   ]
  },
  {
   "cell_type": "code",
   "execution_count": 6,
   "id": "2de940a6-0e76-439e-b99c-e04c1f8d81e9",
   "metadata": {},
   "outputs": [
    {
     "name": "stdout",
     "output_type": "stream",
     "text": [
      "shot: 0010\n"
     ]
    }
   ],
   "source": [
    "from netflix_vfx_naming import Shot\n",
    "example_shot = Shot.Shot(name=\"0010\")\n",
    "print(f\"shot: {example_shot.name}\")"
   ]
  },
  {
   "cell_type": "code",
   "execution_count": 7,
   "id": "b08f71c3-5613-4cc0-a3a5-c32df0edcdef",
   "metadata": {},
   "outputs": [
    {
     "data": {
      "text/plain": [
       "'Series Example Shot Names'"
      ]
     },
     "execution_count": 7,
     "metadata": {},
     "output_type": "execute_result"
    }
   ],
   "source": [
    "\"\"\"Series Example Shot Names\"\"\""
   ]
  },
  {
   "cell_type": "code",
   "execution_count": 8,
   "id": "415c0117-de5f-47a4-98d3-1410ee8bbdb9",
   "metadata": {},
   "outputs": [
    {
     "name": "stdout",
     "output_type": "stream",
     "text": [
      "shot fullname: AGM_104_TCC_067_0010\n"
     ]
    }
   ],
   "source": [
    "\"\"\"Series / Episodic, using Sequence and Scene\"\"\"\n",
    "example_shot.set_parent(example_scene)\n",
    "example_scene.set_parent(example_sequence)\n",
    "example_sequence.set_parent(example_episode)\n",
    "example_episode.set_parent(example_show)\n",
    "\n",
    "print(f\"shot fullname: {example_shot.get_fullname()}\")"
   ]
  },
  {
   "cell_type": "code",
   "execution_count": null,
   "id": "3e6525d5-6105-43a7-a8c3-11945dd8e07b",
   "metadata": {},
   "outputs": [],
   "source": []
  }
 ],
 "metadata": {
  "kernelspec": {
   "display_name": "Python 3 (ipykernel)",
   "language": "python",
   "name": "python3"
  },
  "language_info": {
   "codemirror_mode": {
    "name": "ipython",
    "version": 3
   },
   "file_extension": ".py",
   "mimetype": "text/x-python",
   "name": "python",
   "nbconvert_exporter": "python",
   "pygments_lexer": "ipython3",
   "version": "3.9.21"
  }
 },
 "nbformat": 4,
 "nbformat_minor": 5
}
